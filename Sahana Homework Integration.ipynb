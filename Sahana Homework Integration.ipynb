{
 "cells": [
  {
   "cell_type": "markdown",
   "metadata": {},
   "source": [
    "## Homework: Integration \n",
    "### Heat Capacity of a Solid\n",
    "\n",
    "### Sahana Bhattacharyya Banner Id: 000139658"
   ]
  },
  {
   "cell_type": "code",
   "execution_count": 5,
   "metadata": {},
   "outputs": [
    {
     "data": {
      "image/png": "[encoded data removed]",
      "text/plain": [
       "<matplotlib.figure.Figure at 0x1c171e87470>"
      ]
     },
     "metadata": {},
     "output_type": "display_data"
    }
   ],
   "source": [
    "# Problem 5.9 (Heat Capacity of a Solid)\n",
    "\n",
    "# Implementing the gaussxw \n",
    "import numpy as np\n",
    "from numpy import exp,linspace\n",
    "from numpy import ones,copy,cos,tan,pi,linspace\n",
    "\n",
    "#from gaussxw import gaussxwab \n",
    "import matplotlib.pyplot as plt\n",
    "\n",
    "def gaussxw(N):\n",
    "\n",
    "    # Initial approximation to roots of the Legendre polynomial\n",
    "    a = linspace(3,4*N-1,N)/(4*N+2)\n",
    "    x = np.cos(np.pi*a+1/(8*N*N*np.tan(a)))\n",
    "\n",
    "    # Find roots using Newton's method\n",
    "    epsilon = 1e-15\n",
    "    delta = 1.0\n",
    "    while delta>epsilon:\n",
    "        p0 = np.ones(N,float)\n",
    "        p1 = copy(x)\n",
    "        for k in range(1,N):\n",
    "            p0,p1 = p1,((2*k+1)*x*p1-k*p0)/(k+1)\n",
    "        dp = (N+1)*(p0-x*p1)/(1-x*x)\n",
    "        dx = p1/dp\n",
    "        x -= dx\n",
    "        delta = max(abs(dx))\n",
    "\n",
    "    # Calculate the weights\n",
    "    w = 2*(N+1)*(N+1)/(N*N*(1-x*x)*dp*dp)\n",
    "\n",
    "    return x,w\n",
    "\n",
    "\n",
    "def gaussxwab(N,a,b):\n",
    "    x,w = gaussxw(N)\n",
    "    G = 0.5*(b-a)*x+0.5*(b+a),0.5*(b-a)*w\n",
    "    return G\n",
    "\n",
    "# Determining the Heat Capacity: Initializing the values of different parameters\n",
    "def f(x): \n",
    "    return x**4*np.exp(x)/(np.exp(x)-1)**2\n",
    "\n",
    "def Cv(T):\n",
    "    V=1e-3\n",
    "    p= 6.022e28\n",
    "    Kb = 1.38065e-23 \n",
    "    thetaD=428\n",
    "    A =  9*V*p*Kb*(T/thetaD)**3 \n",
    "\n",
    "    # Defining points and weight of the integral\n",
    "    T=5\n",
    "    N = 50 \n",
    "    a, b = 0, thetaD/T \n",
    "    xp,wp = gaussxwab(N,a,b)\n",
    "    \n",
    "    # Performing the integration\n",
    "    I = 0 \n",
    "    for i in range(N): \n",
    "        I += wp[i]*f(xp[i])\n",
    "    return A*I\n",
    "\n",
    "T = linspace(5,500,496)\n",
    "Cvlist=[]\n",
    "for i in range(496):\n",
    "    Cvlist.append(Cv(T[i]))\n",
    "    \n",
    "plt.plot(T, Cvlist)\n",
    "plt.show()"
   ]
  }
 ],
 "metadata": {
  "kernelspec": {
   "display_name": "Python 3",
   "language": "python",
   "name": "python3"
  },
  "language_info": {
   "codemirror_mode": {
    "name": "ipython",
    "version": 3
   },
   "file_extension": ".py",
   "mimetype": "text/x-python",
   "name": "python",
   "nbconvert_exporter": "python",
   "pygments_lexer": "ipython3",
   "version": "3.6.3"
  }
 },
 "nbformat": 4,
 "nbformat_minor": 2
}
