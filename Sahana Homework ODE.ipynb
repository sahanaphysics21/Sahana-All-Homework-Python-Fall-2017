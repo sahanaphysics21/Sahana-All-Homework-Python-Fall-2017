{
 "cells": [
  {
   "cell_type": "markdown",
   "metadata": {},
   "source": [
    "##  Homework Second Order Differential Equation
         Sahana Bhattacharyya Banner Id : 000139658"
   ]
  },
  {
   "cell_type": "code",
   "execution_count": 6,
   "metadata": {},
   "outputs": [
    {
     "data": {
      "image/png": "[encoded data removed]",
      "text/plain": [
       "<matplotlib.figure.Figure at 0x19165434940>"
      ]
     },
     "metadata": {},
     "output_type": "display_data"
    }
   ],
   "source": [
    "import numpy as np\n",
    "from numpy import array, arange\n",
    "import matplotlib.pyplot as plt\n",
    "\n",
    "rho = 1.22\n",
    "C = 0.47\n",
    "R = 0.08\n",
    "m = 1\n",
    "A = (np.pi)*(R**2)*(rho)*C/2*m\n",
    "v = 100\n",
    "g = 9.81\n",
    "vx = v*np.cos(30)\n",
    "vy = v*np.sin(30)\n",
    "\n",
    "def f(r, vel, t):\n",
    "    x,vx = r[0],r[1]\n",
    "    y,vy = vel[0], vel[1]\n",
    "    fx = vx\n",
    "    fy = vy\n",
    "    fvx = (-A)*vx*v\n",
    "    fvy = -g - (A)*vy*v \n",
    "    return array ([fvx, -fvy], float)\n",
    "\n",
    "initial = 0.0\n",
    "final = 10.0\n",
    "N = 1000\n",
    "h = (final - initial)/N\n",
    "\n",
    "time = arange(initial, final, h)\n",
    "xpoints  = []\n",
    "ypoints  = []\n",
    "vxpoints = []\n",
    "vypoints = []\n",
    "\n",
    "r   = np.array([0.0,0.0],float)\n",
    "vel = np.array([0.0,0.0],float)\n",
    "\n",
    "for t in time: \n",
    "    xpoints.append(r[0])\n",
    "    ypoints.append(r[1])\n",
    "    k1 = h*f(r, vel, t)\n",
    "    k2 = h*f(r+0.5*k1, vel, t+0.5*h)\n",
    "    k3 = h*f(r+0.5*k2, vel, t+0.5*h)\n",
    "    k4 = h*f(r+k3, vel, t+h)\n",
    "    r += (k1+2*k2+2*k3+k4)/6   \n",
    "    \n",
    "plt.plot(xpoints, ypoints)\n",
    "plt.xlabel(\"X\")\n",
    "plt.ylabel(\"Y\")\n",
    "plt.show()\n"
   ]
  },
  {
   "cell_type": "code",
   "execution_count": 20,
   "metadata": {
    "scrolled": true
   },
   "outputs": [
    {
     "data": {
      "image/png": "[encoded data removed]",
      "text/plain": [
       "<matplotlib.figure.Figure at 0x191651415f8>"
      ]
     },
     "metadata": {},
     "output_type": "display_data"
    },
    {
     "name": "stdout",
     "output_type": "stream",
     "text": [
      "Range for mass 1.0 kg =  282.180843799\n",
      "Range for mass 1.5 kg =  423.271265698\n",
      "Range for mass 0.5 kg =  141.090421899\n"
     ]
    }
   ],
   "source": [
    "import numpy as np\n",
    "from numpy import array, arange\n",
    "import matplotlib.pyplot as plt\n",
    "\n",
    "def trajec(m):\n",
    "    rho = 1.22\n",
    "    C = 0.47\n",
    "    R = 0.08\n",
    "    A = (np.pi)*(R**2)*(rho)*C/2*m\n",
    "    v = 100\n",
    "    g = 9.81\n",
    "    vx = v*np.cos(30)\n",
    "    vy = v*np.sin(30)\n",
    "\n",
    "    def f(r, vel, t):\n",
    "        x,vx = r[0],r[1]\n",
    "        y,vy = vel[0], vel[1]\n",
    "        fx = vx\n",
    "        fy = vy\n",
    "        fvx = (-A)*vx*v\n",
    "        fvy = -g - (A)*vy*v \n",
    "        return array ([fvx, -fvy], float)\n",
    "\n",
    "    initial = 0.0\n",
    "    final = 10.0\n",
    "    N = 1000\n",
    "    h = (final - initial)/N\n",
    "\n",
    "    time = arange(initial, final, h)\n",
    "    xpoints  = []\n",
    "    ypoints  = []\n",
    "    vxpoints = []\n",
    "    vypoints = []\n",
    "\n",
    "    r   = np.array([0.0,0.0],float)\n",
    "    vel = np.array([0.0,0.0],float)\n",
    "\n",
    "    for t in time: \n",
    "        xpoints.append(r[0])\n",
    "        ypoints.append(r[1])\n",
    "        k1 = h*f(r, vel, t)\n",
    "        k2 = h*f(r+0.5*k1, vel, t+0.5*h)\n",
    "        k3 = h*f(r+0.5*k2, vel, t+0.5*h)\n",
    "        k4 = h*f(r+k3, vel, t+h)\n",
    "        r += (k1+2*k2+2*k3+k4)/6   \n",
    "    high = max(xpoints)\n",
    "    low = min(xpoints)\n",
    "    dist = high - low\n",
    "    \n",
    "    return xpoints, ypoints, dist\n",
    "\n",
    "if __name__ == \"__main__\":\n",
    "    xpoints1, ypoints1, dist1 = trajec(1)\n",
    "    xpoints2, ypoints2, dist2 = trajec(1.5)\n",
    "    xpoints3, ypoints3, dist3 = trajec(0.5)\n",
    "    \n",
    "plt.plot(xpoints1, ypoints1, \"red\", xpoints2, ypoints2, \"blue\", xpoints3, ypoints3, \"seagreen\")\n",
    "plt.xlabel(\"X\")\n",
    "plt.ylabel(\"Y\")\n",
    "plt.show()\n",
    "\n",
    "print(\"Range for mass 1.0 kg = \", dist1)\n",
    "print(\"Range for mass 1.5 kg = \", dist2)\n",
    "print(\"Range for mass 0.5 kg = \", dist3)"
   ]
  },
  {
   "cell_type": "markdown",
   "metadata": {},
   "source": [
    "### Observation: Distance is proportional to mass"
   ]
  }
 ],
 "metadata": {
  "kernelspec": {
   "display_name": "Python 3",
   "language": "python",
   "name": "python3"
  },
  "language_info": {
   "codemirror_mode": {
    "name": "ipython",
    "version": 3
   },
   "file_extension": ".py",
   "mimetype": "text/x-python",
   "name": "python",
   "nbconvert_exporter": "python",
   "pygments_lexer": "ipython3",
   "version": "3.6.1"
  }
 },
 "nbformat": 4,
 "nbformat_minor": 2
}
