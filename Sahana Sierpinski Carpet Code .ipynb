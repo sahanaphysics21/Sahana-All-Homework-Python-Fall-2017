{
 "cells": [
  {
   "cell_type": "markdown",
   "metadata": {},
   "source": [
    "## Fractal Sierpinski Carpet Pattern\n",
    "\n",
    "### Sahana Bhattacharyya Banner ID 000139658"
   ]
  },
  {
   "cell_type": "code",
   "execution_count": 40,
   "metadata": {},
   "outputs": [
    {
     "name": "stdout",
     "output_type": "stream",
     "text": [
      "Photo carpet0.bmp\n",
      "Photo carpet1.bmp\n",
      "Photo carpet2.bmp\n",
      "Photo carpet3.bmp\n",
      "Photo carpet4.bmp\n",
      "Photo carpet5.bmp\n",
      "Photo carpet6.bmp\n"
     ]
    }
   ],
   "source": [
    "import numpy as np\n",
    "\n",
    "from PIL import Image\n",
    "\n",
    "numLevels = 6\n",
    "\n",
    "imageSize = 3**numLevels\n",
    "\n",
    "# Create the image and fill it with white\n",
    "\n",
    "img = np.empty([imageSize, imageSize, 3], dtype=np.uint8)\n",
    "\n",
    "img.fill(1)\n",
    "\n",
    "color = np.array([30, 50, 240], dtype=np.uint8)\n",
    "\n",
    "\n",
    "\n",
    "for level in range(0, numLevels + 1):\n",
    "\n",
    "    stepSize = 3**(numLevels - level)\n",
    "\n",
    "    for x in range(0, 3**level):\n",
    "\n",
    "        if x % 3 == 1:\n",
    "\n",
    "            for y in range(0, 3**level):\n",
    "\n",
    "                if y % 3 == 1:\n",
    "\n",
    "                    img[y*stepSize:(y+1)*stepSize, x*stepSize:(x+1)*stepSize] = color\n",
    "\n",
    "\n",
    "\n",
    "    # Send to PIL and save\n",
    "\n",
    "    output = \"carpet%d.bmp\" % level\n",
    "\n",
    "    Image.fromarray(img).save(output)\n",
    "\n",
    "    print('Photo %s' % output)"
   ]
  }
 ],
 "metadata": {
  "kernelspec": {
   "display_name": "Python 3",
   "language": "python",
   "name": "python3"
  },
  "language_info": {
   "codemirror_mode": {
    "name": "ipython",
    "version": 3
   },
   "file_extension": ".py",
   "mimetype": "text/x-python",
   "name": "python",
   "nbconvert_exporter": "python",
   "pygments_lexer": "ipython3",
   "version": "3.6.3"
  }
 },
 "nbformat": 4,
 "nbformat_minor": 2
}
