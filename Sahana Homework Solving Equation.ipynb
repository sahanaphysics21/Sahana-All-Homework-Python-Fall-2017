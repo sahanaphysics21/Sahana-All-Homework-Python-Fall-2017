{
 "cells": [
  {
   "cell_type": "markdown",
   "metadata": {},
   "source": [
    "## Homework Linear Algebra: Solving Equations\n",
    "\n",
    "### Sahana Bhattacharyya\n",
    "### Banner Id: 000139658\n"
   ]
  },
  {
   "cell_type": "code",
   "execution_count": 4,
   "metadata": {},
   "outputs": [
    {
     "name": "stdout",
     "output_type": "stream",
     "text": [
      "No of vector elements 6\n",
      "[[ 3. -1. -1.  0.  0.  0.]\n",
      " [-1.  4. -1. -1.  0.  0.]\n",
      " [-1. -1.  4. -1. -1.  0.]\n",
      " [ 0. -1. -1.  4. -1. -1.]\n",
      " [ 0.  0. -1. -1.  4. -1.]\n",
      " [ 0.  0.  0. -1. -1.  3.]]\n",
      "[[ 1.         -0.33333333 -0.33333333  0.          0.          0.        ]\n",
      " [ 0.          1.         -0.36363636 -0.27272727  0.          0.        ]\n",
      " [ 0.          0.          1.         -0.42857143 -0.31428571  0.        ]\n",
      " [ 0.          0.          0.          1.         -0.45454545 -0.31818182]\n",
      " [ 0.          0.          0.          0.          1.         -0.47904192]\n",
      " [ 0.          0.          0.          0.          0.          1.        ]]\n",
      "[ 3.7254902   3.43137255  2.74509804  2.25490196  1.56862745  1.2745098 ]\n"
     ]
    }
   ],
   "source": [
    "# Problem 6.7 Part:1 (N=0 .....1000 this program works)\n",
    "\n",
    "import numpy as np\n",
    "from numpy import zeros\n",
    "N = int(input(\"No of vector elements \"))\n",
    "a = zeros([N,N], float)\n",
    "\n",
    "V = zeros([N,1], float)\n",
    "V[0,0] = V[1, 0] = 5\n",
    "\n",
    "#print(\"Vector\", V)\n",
    "\n",
    "a[0,0] = a[N-1, N-1] = 3\n",
    "a[0,1]=a[0,2]=a[1,2]=a[1,3]=a[1,0] =-1\n",
    "a[1,1] = a[N-2, N-2] = 4\n",
    "\n",
    "a[N-2, N-4] = a[N-2, N-3] = a[N-2, N-1] = a[N-1, N-3] = a[N-1, N-2] = -1\n",
    "\n",
    "\n",
    "for i in range (2, N-2):\n",
    "    j = i -2\n",
    "    a[i, j] = -1                    #V[i-2]\n",
    "    a[i, j+1] = -1                  #V[i-1]\n",
    "    a[i, j+2] = 4                   #*V[i]\n",
    "    a[i, j+3] = -1                  #V[i+1]\n",
    "    a[i, j+4] = -1                  #V[i+2]\n",
    "\n",
    "print(a)\n",
    "\n",
    "#Gaussian elimination\n",
    "for m in range(N):\n",
    "    div = a[m,m]               #divide by the diagonal element\n",
    "    a[m,:]/=div                #[m,:] means divide all the elements of the row \n",
    "    V[m]/=div\n",
    "    \n",
    "    #Subtract from the lower rows\n",
    "    for i in range (m+1,N):\n",
    "        mult = a[i,m]\n",
    "        a[i,:]-= mult*a[m,:]\n",
    "        V[i]-= mult*V[m]\n",
    "        \n",
    "print(a)\n",
    "\n",
    "#Backsubstitution\n",
    "x = zeros(N,float)\n",
    "for m in range (N-1, -1, -1):\n",
    "    x[m] = V[m]\n",
    "    for i in range(m+1,N):\n",
    "        x[m] -=a[m,i]*x[i]\n",
    "print(x)"
   ]
  },
  {
   "cell_type": "code",
   "execution_count": 6,
   "metadata": {},
   "outputs": [
    {
     "name": "stdout",
     "output_type": "stream",
     "text": [
      "No of vector elements 6\n",
      "[[ 3. -1. -1.  0.  0.  0.]\n",
      " [-1.  4. -1. -1.  0.  0.]\n",
      " [-1. -1.  4. -1. -1.  0.]\n",
      " [ 0. -1. -1.  4. -1. -1.]\n",
      " [ 0.  0. -1. -1.  4. -1.]\n",
      " [ 0.  0.  0. -1. -1.  3.]]\n"
     ]
    },
    {
     "ename": "NameError",
     "evalue": "name 'up' is not defined",
     "output_type": "error",
     "traceback": [
      "\u001b[1;31m---------------------------------------------------------------------------\u001b[0m",
      "\u001b[1;31mNameError\u001b[0m                                 Traceback (most recent call last)",
      "\u001b[1;32m<ipython-input-6-08cebf84ee35>\u001b[0m in \u001b[0;36m<module>\u001b[1;34m()\u001b[0m\n\u001b[0;32m     35\u001b[0m \u001b[1;31m#Gaussian elimination\u001b[0m\u001b[1;33m\u001b[0m\u001b[1;33m\u001b[0m\u001b[0m\n\u001b[0;32m     36\u001b[0m \u001b[1;32mfor\u001b[0m \u001b[0mm\u001b[0m \u001b[1;32min\u001b[0m \u001b[0mrange\u001b[0m \u001b[1;33m(\u001b[0m\u001b[0mN\u001b[0m\u001b[1;33m)\u001b[0m\u001b[1;33m:\u001b[0m\u001b[1;33m\u001b[0m\u001b[0m\n\u001b[1;32m---> 37\u001b[1;33m     \u001b[0mdiv\u001b[0m \u001b[1;33m=\u001b[0m \u001b[0mA\u001b[0m\u001b[1;33m[\u001b[0m\u001b[0mup\u001b[0m\u001b[1;33m,\u001b[0m\u001b[0mm\u001b[0m\u001b[1;33m]\u001b[0m            \u001b[1;31m#Normalisation factor\u001b[0m\u001b[1;33m\u001b[0m\u001b[0m\n\u001b[0m\u001b[0;32m     38\u001b[0m     \u001b[0mv\u001b[0m\u001b[1;33m[\u001b[0m\u001b[0mm\u001b[0m\u001b[1;33m]\u001b[0m \u001b[1;33m/=\u001b[0m\u001b[0mdiv\u001b[0m               \u001b[1;31m#Update the vector first\u001b[0m\u001b[1;33m\u001b[0m\u001b[0m\n\u001b[0;32m     39\u001b[0m \u001b[1;33m\u001b[0m\u001b[0m\n",
      "\u001b[1;31mNameError\u001b[0m: name 'up' is not defined"
     ]
    }
   ],
   "source": [
    "from numpy import copy\n",
    "\n",
    "import numpy as np\n",
    "from numpy import zeros\n",
    "N = int(input(\"No of vector elements \"))\n",
    "A = zeros([N,N], float)\n",
    "\n",
    "V = zeros([N,1], float)\n",
    "V[0,0] = V[1, 0] = 5\n",
    "\n",
    "#print(\"Vector\", V)\n",
    "\n",
    "A[0,0] = A[N-1, N-1] = 3\n",
    "A[0,1]=A[0,2]=A[1,2]=A[1,3]=A[1,0] =-1\n",
    "A[1,1] = A[N-2, N-2] = 4\n",
    "\n",
    "A[N-2, N-4] = A[N-2, N-3] = A[N-2, N-1] = A[N-1, N-3] = A[N-1, N-2] = -1\n",
    "\n",
    "\n",
    "for i in range (2, N-2):\n",
    "    j = i -2\n",
    "    A[i, j] = -1                    #V[i-2]\n",
    "    A[i, j+1] = -1                  #V[i-1]\n",
    "    A[i, j+2] = 4                   #*V[i]\n",
    "    A[i, j+3] = -1                  #V[i+1]\n",
    "    A[i, j+4] = -1                  #V[i+2]\n",
    "\n",
    "print(A)\n",
    "\n",
    "def banded(Aa,va,up,down):\n",
    "    A = copy(Aa)\n",
    "    v = copy(va)\n",
    "    N = len(v)\n",
    "    \n",
    "#Gaussian elimination \n",
    "for m in range (N):\n",
    "    div = A[up,m]            #Normalisation factor\n",
    "    v[m] /=div               #Update the vector first\n",
    "    \n",
    "    for k in range (1,down+1):\n",
    "        if m+k<N:\n",
    "            v[m+k] -=A[up+k,m]*v[m]\n",
    "        \n",
    "        # Now normalise and subtratct the pivot row\n",
    "        for j in range(up):\n",
    "            j = m+up-i\n",
    "            if j<N:\n",
    "                A[i,j] /= div\n",
    "                for k in range(1,down+1):\n",
    "                    A[i+k,j] -= A[up+k,m]*A[i,j]\n",
    "                    \n",
    "#Backsubstitution \n",
    "for m in range(N-2,-1,-1):\n",
    "    for i in range(up):\n",
    "        j = m +up -i\n",
    "        if j<N:\n",
    "            v[m] -= A[i,j]*v[j]"
   ]
  }
 ],
 "metadata": {
  "kernelspec": {
   "display_name": "Python 3",
   "language": "python",
   "name": "python3"
  },
  "language_info": {
   "codemirror_mode": {
    "name": "ipython",
    "version": 3
   },
   "file_extension": ".py",
   "mimetype": "text/x-python",
   "name": "python",
   "nbconvert_exporter": "python",
   "pygments_lexer": "ipython3",
   "version": "3.6.3"
  }
 },
 "nbformat": 4,
 "nbformat_minor": 2
}
