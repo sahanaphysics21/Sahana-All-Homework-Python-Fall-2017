{
 "cells": [
  {
   "cell_type": "markdown",
   "metadata": {},
   "source": [
    "## Homework Speed and Accuracy \n",
    "### Problem: Factorial with integers\n",
    "\n",
    "Sahana Bhattacharyya\n",
    "Banner Id: 000139658"
   ]
  },
  {
   "cell_type": "code",
   "execution_count": 7,
   "metadata": {},
   "outputs": [
    {
     "name": "stdout",
     "output_type": "stream",
     "text": [
      "Enter the integer and calculate it's factorial 5\n",
      "120\n"
     ]
    }
   ],
   "source": [
    "import numpy as np\n",
    "n = np.int(input(\"Enter the integer and calculate it's factorial \", ))\n",
    "\n",
    "def fact(n):\n",
    "    if n == 0:\n",
    "        return 1\n",
    "    else:\n",
    "        return n * fact(n-1)\n",
    "\n",
    "print (fact(n))\n"
   ]
  },
  {
   "cell_type": "code",
   "execution_count": 14,
   "metadata": {},
   "outputs": [
    {
     "name": "stdout",
     "output_type": "stream",
     "text": [
      "Enter the number and calculate it's factorial 200\n",
      "inf\n"
     ]
    }
   ],
   "source": [
    "# Problem: Factorial with floats\n",
    "\n",
    "import numpy as np\n",
    "m = np.float(input(\"Enter the number and calculate it's factorial \", ))\n",
    "\n",
    "def factorial(m):\n",
    "    if m == 0.0:\n",
    "        return 1\n",
    "    elif m == 0.5:\n",
    "        return np.sqrt(np.pi)/2\n",
    "    else:\n",
    "        return m * factorial(m-1)\n",
    "\n",
    "print (factorial(m))\n",
    "\n",
    "# Every number after factorial(170) becomes infinity. Factorial(200) is also infinity"
   ]
  }
 ],
 "metadata": {
  "kernelspec": {
   "display_name": "Python 3",
   "language": "python",
   "name": "python3"
  },
  "language_info": {
   "codemirror_mode": {
    "name": "ipython",
    "version": 3
   },
   "file_extension": ".py",
   "mimetype": "text/x-python",
   "name": "python",
   "nbconvert_exporter": "python",
   "pygments_lexer": "ipython3",
   "version": "3.6.3"
  }
 },
 "nbformat": 4,
 "nbformat_minor": 2
}
